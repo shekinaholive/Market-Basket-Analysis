{
 "cells": [
  {
   "cell_type": "code",
   "execution_count": 7,
   "metadata": {},
   "outputs": [],
   "source": [
    "from nltk.chat.util import Chat, reflections"
   ]
  },
  {
   "cell_type": "code",
   "execution_count": 9,
   "metadata": {},
   "outputs": [],
   "source": [
    "pairs=[[r\"(.*)my name is (.*)\",[\"Hello %2, How are you today ?\",]],[r\"(.*)help(.*) \",[\"I can help you \",]],\n",
    "[r\"(.*) your name ?\",[\"My name is beedo, but you can just call me robot and I'm a chatbot .\",]],\n",
    "[r\"how are you (.*) ?\",[\"I'm doing very well\", \"i am great !\"]],\n",
    "[r\"sorry (.*)\",[\"Its alright\",\"Its OK, never mind that\",]],\n",
    "[r\"i'm (.*) (good|well|okay|ok)\",[\"Nice to hear that\",\"Alright, great !\",]],\n",
    "[r\"(hi|hey|hello|hola|holla)(.*)\",[\"Hello\", \"Hey there\",]],\n",
    "[r\"what (.*) want ?\",[\"Make me an offer I can't refuse\",]],\n",
    "[r\"(.*)created(.*)\",[\"Aman Kharwal created me using Python's NLTK library \",\"top secret ;)\",]],\n",
    "[r\"(.*) (location|city) ?\",['New Delhi, India',]],\n",
    "[r\"(.*)raining in (.*)\",[\"No rain in the past 4 days here in %2\",\"In %2 there is a 50% chance of rain\",]],\n",
    "[r\"how (.*) health (.*)\",[\"Health is very important, but I am a computer, so I don't need to worry about my health \",]],\n",
    "[r\"(.*)(sports|game|sport)(.*)\",[\"I'm a very big fan of Cricket\",]],\n",
    "[r\"who (.*) (Cricketer|Batsman)?\",[\"Virat Kohli\"]],\n",
    "[r\"quit\",[\"Bye for now. See you soon :) \",\"It was nice talking to you. See you soon :)\"]],\n",
    "[r\"(.*)\",['That is nice to hear']],\n",
    "]"
   ]
  },
  {
   "cell_type": "code",
   "execution_count": 10,
   "metadata": {},
   "outputs": [
    {
     "name": "stdout",
     "output_type": "stream",
     "text": [
      "{'i am': 'you are', 'i was': 'you were', 'i': 'you', \"i'm\": 'you are', \"i'd\": 'you would', \"i've\": 'you have', \"i'll\": 'you will', 'my': 'your', 'you are': 'I am', 'you were': 'I was', \"you've\": 'I have', \"you'll\": 'I will', 'your': 'my', 'yours': 'mine', 'you': 'me', 'me': 'you'}\n"
     ]
    }
   ],
   "source": [
    "print(reflections)"
   ]
  },
  {
   "cell_type": "code",
   "execution_count": 11,
   "metadata": {},
   "outputs": [],
   "source": [
    "dummy_reflections = { \"go\": \"gone\", \"hello\": \"hey there\" }"
   ]
  },
  {
   "cell_type": "code",
   "execution_count": 12,
   "metadata": {},
   "outputs": [
    {
     "name": "stdout",
     "output_type": "stream",
     "text": [
      "Hi, I'm Beedo and I like to chat.nPlease type in English language (lowercase) to start a conversation. Type quit to leave. \n"
     ]
    }
   ],
   "source": [
    "print(\"Hi, I'm Beedo and I like to chat.nPlease type in English language (lowercase) to start a conversation. Type quit to leave. \")\n",
    "chat = Chat(pairs, reflections)"
   ]
  },
  {
   "cell_type": "code",
   "execution_count": null,
   "metadata": {},
   "outputs": [],
   "source": [
    "chat.converse()"
   ]
  }
 ],
 "metadata": {
  "kernelspec": {
   "display_name": "Python 3",
   "language": "python",
   "name": "python3"
  },
  "language_info": {
   "codemirror_mode": {
    "name": "ipython",
    "version": 3
   },
   "file_extension": ".py",
   "mimetype": "text/x-python",
   "name": "python",
   "nbconvert_exporter": "python",
   "pygments_lexer": "ipython3",
   "version": "3.9.1"
  },
  "orig_nbformat": 4,
  "vscode": {
   "interpreter": {
    "hash": "0f2226547274e23526a385a1ed1e94d9f2fa058be85975ddee53fc42eae89249"
   }
  }
 },
 "nbformat": 4,
 "nbformat_minor": 2
}
